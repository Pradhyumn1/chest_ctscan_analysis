{
 "cells": [
  {
   "cell_type": "code",
   "execution_count": 21,
   "metadata": {},
   "outputs": [],
   "source": [
    "import os"
   ]
  },
  {
   "cell_type": "code",
   "execution_count": 22,
   "metadata": {},
   "outputs": [],
   "source": [
    "os.chdir(\"../\")"
   ]
  },
  {
   "cell_type": "code",
   "execution_count": 23,
   "metadata": {},
   "outputs": [
    {
     "data": {
      "text/plain": [
       "'/Users/pradhyumnyadav'"
      ]
     },
     "execution_count": 23,
     "metadata": {},
     "output_type": "execute_result"
    }
   ],
   "source": [
    "%pwd"
   ]
  },
  {
   "cell_type": "code",
   "execution_count": 24,
   "metadata": {},
   "outputs": [],
   "source": [
    "import os\n",
    "import urllib.request as request\n",
    "from zipfile import ZipFile\n",
    "import tensorflow as tf\n",
    "import time\n",
    "from dataclasses import dataclass\n",
    "from pathlib import Path\n",
    "from ct_scan.constants import *\n",
    "import tensorflow as tf\n",
    "from ct_scan.utils.common import create_directories\n",
    "\n",
    "\n",
    "\n",
    "@dataclass(frozen=True)\n",
    "class TrainingConfig:\n",
    "    root_dir: Path\n",
    "    trained_model_path: Path\n",
    "    updated_base_model_path: Path\n",
    "    training_data: Path\n",
    "    params_epochs: int\n",
    "    params_batch_size: int\n",
    "    params_is_augmentation: bool\n",
    "    params_image_size: list"
   ]
  },
  {
   "cell_type": "code",
   "execution_count": 25,
   "metadata": {},
   "outputs": [],
   "source": [
    "class ConfigurationManager:\n",
    "    def __init__(self):\n",
    "        self.config = {\n",
    "            \"artifacts_root\": \"artifacts\",\n",
    "            \"data_ingestion\": {\n",
    "                \"root_dir\": \"artifacts/data_ingestion\",\n",
    "                \"source_URL\": \"https://drive.google.com/file/d/1z0mreUtRmR-P-magILsDR3T7M6IkGXtY/view?usp=sharing\",\n",
    "                \"local_data_file\": \"artifacts/data_ingestion/data.zip\",\n",
    "                \"unzip_dir\": \"artifacts/data_ingestion\"\n",
    "            },\n",
    "            \"prepare_base_model\": {\n",
    "                \"root_dir\": \"artifacts/prepare_base_model\",\n",
    "                \"base_model_path\": \"artifacts/prepare_base_model/base_model.h5\",\n",
    "                \"updated_base_model_path\": \"artifacts/prepare_base_model/base_model_updated.h5\"\n",
    "            },\n",
    "            \"training\": {\n",
    "                \"root_dir\": \"artifacts/training\",\n",
    "                \"trained_model_path\": \"artifacts/training/model.h5\"\n",
    "            }\n",
    "        }\n",
    "        self.params = {\n",
    "            \"AUGMENTATION\": True,\n",
    "            \"IMAGE_SIZE\": [224, 224, 3],\n",
    "            \"BATCH_SIZE\": 16,\n",
    "            \"INCLUDE_TOP\": False,\n",
    "            \"EPOCHS\": 5,\n",
    "            \"CLASSES\": 2,\n",
    "            \"WEIGHTS\": \"imagenet\",\n",
    "            \"LEARNING_RATE\": 0.01\n",
    "        }\n",
    "        \n",
    "    def get_training_config(self) -> TrainingConfig:\n",
    "        training = self.config[\"training\"]\n",
    "        prepare_base_model = self.config[\"prepare_base_model\"]\n",
    "        params = self.params\n",
    "        training_data = os.path.join(self.config[\"data_ingestion\"][\"unzip_dir\"], \"Chest-CT-Scan-data\")\n",
    "        os.makedirs(Path(training[\"root_dir\"]), exist_ok=True)\n",
    "\n",
    "\n",
    "        training_config = TrainingConfig(\n",
    "            root_dir=Path(training[\"root_dir\"]),\n",
    "            trained_model_path=Path(training[\"trained_model_path\"]),\n",
    "            updated_base_model_path=Path(prepare_base_model[\"updated_base_model_path\"]),\n",
    "            training_data=Path(training_data),\n",
    "            params_epochs=params[\"EPOCHS\"],\n",
    "            params_batch_size=params[\"BATCH_SIZE\"],\n",
    "            params_is_augmentation=params[\"AUGMENTATION\"],\n",
    "            params_image_size=params[\"IMAGE_SIZE\"]\n",
    "        )\n",
    "\n",
    "        return training_config\n"
   ]
  },
  {
   "cell_type": "code",
   "execution_count": 26,
   "metadata": {},
   "outputs": [],
   "source": [
    "class Training:\n",
    "    def __init__(self, config: TrainingConfig):\n",
    "        self.config = config\n",
    "\n",
    "    \n",
    "    def get_base_model(self):\n",
    "        self.model = tf.keras.models.load_model(\n",
    "            self.config.updated_base_model_path\n",
    "        )\n",
    "\n",
    "    def train_valid_generator(self):\n",
    "\n",
    "        datagenerator_kwargs = dict(\n",
    "            rescale = 1./255,\n",
    "            validation_split=0.20\n",
    "        )\n",
    "\n",
    "        dataflow_kwargs = dict(\n",
    "            target_size=self.config.params_image_size[:-1],\n",
    "            batch_size=self.config.params_batch_size,\n",
    "            interpolation=\"bilinear\"\n",
    "        )\n",
    "\n",
    "        valid_datagenerator = tf.keras.preprocessing.image.ImageDataGenerator(\n",
    "            **datagenerator_kwargs\n",
    "        )\n",
    "\n",
    "        self.valid_generator = valid_datagenerator.flow_from_directory(\n",
    "            directory=self.config.training_data,\n",
    "            subset=\"validation\",\n",
    "            shuffle=False,\n",
    "            **dataflow_kwargs\n",
    "        )\n",
    "\n",
    "        if self.config.params_is_augmentation:\n",
    "            train_datagenerator = tf.keras.preprocessing.image.ImageDataGenerator(\n",
    "                rotation_range=40,\n",
    "                horizontal_flip=True,\n",
    "                width_shift_range=0.2,\n",
    "                height_shift_range=0.2,\n",
    "                shear_range=0.2,\n",
    "                zoom_range=0.2,\n",
    "                **datagenerator_kwargs\n",
    "            )\n",
    "        else:\n",
    "            train_datagenerator = valid_datagenerator\n",
    "\n",
    "        self.train_generator = train_datagenerator.flow_from_directory(\n",
    "            directory=self.config.training_data,\n",
    "            subset=\"training\",\n",
    "            shuffle=True,\n",
    "            **dataflow_kwargs\n",
    "        )\n",
    "\n",
    "    \n",
    "    @staticmethod\n",
    "    def save_model(path: Path, model: tf.keras.Model):\n",
    "        model.save(path)\n",
    "\n",
    "\n",
    "\n",
    "    \n",
    "    def train(self):\n",
    "        self.steps_per_epoch = self.train_generator.samples // self.train_generator.batch_size\n",
    "        self.validation_steps = self.valid_generator.samples // self.valid_generator.batch_size\n",
    "\n",
    "        self.model.fit(\n",
    "            self.train_generator,\n",
    "            epochs=self.config.params_epochs,\n",
    "            steps_per_epoch=self.steps_per_epoch,\n",
    "            validation_steps=self.validation_steps,\n",
    "            validation_data=self.valid_generator\n",
    "        )\n",
    "\n",
    "        self.save_model(\n",
    "            path=self.config.trained_model_path,\n",
    "            model=self.model\n",
    "        )"
   ]
  },
  {
   "cell_type": "code",
   "execution_count": 27,
   "metadata": {},
   "outputs": [
    {
     "name": "stdout",
     "output_type": "stream",
     "text": [
      "[2024-02-23 18:11:06,342: WARNING: optimizer: At this time, the v2.11+ optimizer `tf.keras.optimizers.SGD` runs slowly on M1/M2 Macs, please use the legacy Keras optimizer instead, located at `tf.keras.optimizers.legacy.SGD`.]\n",
      "Found 68 images belonging to 2 classes.\n",
      "Found 275 images belonging to 2 classes.\n",
      "Epoch 1/5\n",
      "17/17 [==============================] - 29s 2s/step - loss: 14.5829 - accuracy: 0.5367 - val_loss: 10.5387 - val_accuracy: 0.6094\n",
      "Epoch 2/5\n",
      "17/17 [==============================] - 29s 2s/step - loss: 14.5999 - accuracy: 0.5444 - val_loss: 0.1099 - val_accuracy: 0.9844\n",
      "Epoch 3/5\n",
      "17/17 [==============================] - 30s 2s/step - loss: 9.4188 - accuracy: 0.6023 - val_loss: 2.2510 - val_accuracy: 0.8750\n",
      "Epoch 4/5\n",
      "17/17 [==============================] - 35s 2s/step - loss: 7.3329 - accuracy: 0.6602 - val_loss: 9.5366 - val_accuracy: 0.3906\n",
      "Epoch 5/5\n",
      "17/17 [==============================] - 33s 2s/step - loss: 6.7428 - accuracy: 0.6255 - val_loss: 19.3017 - val_accuracy: 0.3906\n"
     ]
    },
    {
     "name": "stderr",
     "output_type": "stream",
     "text": [
      "/Users/pradhyumnyadav/Desktop/chest_ctscan_analysis/venv/lib/python3.11/site-packages/keras/src/engine/training.py:3103: UserWarning: You are saving your model as an HDF5 file via `model.save()`. This file format is considered legacy. We recommend using instead the native Keras format, e.g. `model.save('my_model.keras')`.\n",
      "  saving_api.save_model(\n"
     ]
    }
   ],
   "source": [
    "try:\n",
    "    config = ConfigurationManager()\n",
    "    training_config = config.get_training_config()\n",
    "    training = Training(config=training_config)\n",
    "    training.get_base_model()\n",
    "    training.train_valid_generator()\n",
    "    training.train()\n",
    "    \n",
    "except Exception as e:\n",
    "    raise e"
   ]
  },
  {
   "cell_type": "code",
   "execution_count": null,
   "metadata": {},
   "outputs": [],
   "source": []
  }
 ],
 "metadata": {
  "kernelspec": {
   "display_name": "venv",
   "language": "python",
   "name": "python3"
  },
  "language_info": {
   "codemirror_mode": {
    "name": "ipython",
    "version": 3
   },
   "file_extension": ".py",
   "mimetype": "text/x-python",
   "name": "python",
   "nbconvert_exporter": "python",
   "pygments_lexer": "ipython3",
   "version": "3.11.5"
  }
 },
 "nbformat": 4,
 "nbformat_minor": 2
}
